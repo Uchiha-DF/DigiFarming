{
 "cells": [
  {
   "cell_type": "code",
   "execution_count": 1,
   "metadata": {},
   "outputs": [],
   "source": [
    "import pandas as pd\n",
    "import numpy as np"
   ]
  },
  {
   "cell_type": "code",
   "execution_count": 2,
   "metadata": {},
   "outputs": [],
   "source": [
    "data = pd.read_excel('ActData1.xlsx')"
   ]
  },
  {
   "cell_type": "code",
   "execution_count": 3,
   "metadata": {},
   "outputs": [
    {
     "data": {
      "text/html": [
       "<div>\n",
       "<style scoped>\n",
       "    .dataframe tbody tr th:only-of-type {\n",
       "        vertical-align: middle;\n",
       "    }\n",
       "\n",
       "    .dataframe tbody tr th {\n",
       "        vertical-align: top;\n",
       "    }\n",
       "\n",
       "    .dataframe thead th {\n",
       "        text-align: right;\n",
       "    }\n",
       "</style>\n",
       "<table border=\"1\" class=\"dataframe\">\n",
       "  <thead>\n",
       "    <tr style=\"text-align: right;\">\n",
       "      <th></th>\n",
       "      <th>Year</th>\n",
       "      <th>Month</th>\n",
       "      <th>J.D.</th>\n",
       "      <th>DAY</th>\n",
       "      <th>Max_temp</th>\n",
       "      <th>Min_temp</th>\n",
       "      <th>Max_Rh</th>\n",
       "      <th>Min_Rh</th>\n",
       "      <th>Temp</th>\n",
       "      <th>Rh</th>\n",
       "      <th>Dew_Point</th>\n",
       "      <th>P</th>\n",
       "      <th>Kc</th>\n",
       "      <th>Eto</th>\n",
       "      <th>Soil_Moist</th>\n",
       "      <th>Water</th>\n",
       "      <th>Water_content</th>\n",
       "    </tr>\n",
       "  </thead>\n",
       "  <tbody>\n",
       "    <tr>\n",
       "      <th>0</th>\n",
       "      <td>2014</td>\n",
       "      <td>JAN.</td>\n",
       "      <td>1</td>\n",
       "      <td>1</td>\n",
       "      <td>26.8</td>\n",
       "      <td>14.4</td>\n",
       "      <td>91.971153</td>\n",
       "      <td>48.682595</td>\n",
       "      <td>20.6</td>\n",
       "      <td>70.326874</td>\n",
       "      <td>0.731234</td>\n",
       "      <td>0.26</td>\n",
       "      <td>4.15</td>\n",
       "      <td>4.54376</td>\n",
       "      <td>0</td>\n",
       "      <td>1.181378</td>\n",
       "      <td>1.19</td>\n",
       "    </tr>\n",
       "    <tr>\n",
       "      <th>1</th>\n",
       "      <td>2014</td>\n",
       "      <td>JAN.</td>\n",
       "      <td>2</td>\n",
       "      <td>2</td>\n",
       "      <td>25.4</td>\n",
       "      <td>15.8</td>\n",
       "      <td>90.055915</td>\n",
       "      <td>46.858820</td>\n",
       "      <td>20.6</td>\n",
       "      <td>68.457368</td>\n",
       "      <td>0.722195</td>\n",
       "      <td>0.26</td>\n",
       "      <td>4.15</td>\n",
       "      <td>4.54376</td>\n",
       "      <td>0</td>\n",
       "      <td>1.181378</td>\n",
       "      <td>1.19</td>\n",
       "    </tr>\n",
       "    <tr>\n",
       "      <th>2</th>\n",
       "      <td>2014</td>\n",
       "      <td>JAN.</td>\n",
       "      <td>3</td>\n",
       "      <td>3</td>\n",
       "      <td>25.8</td>\n",
       "      <td>13.8</td>\n",
       "      <td>95.764981</td>\n",
       "      <td>45.118338</td>\n",
       "      <td>19.8</td>\n",
       "      <td>70.441659</td>\n",
       "      <td>0.707755</td>\n",
       "      <td>0.26</td>\n",
       "      <td>4.15</td>\n",
       "      <td>4.44808</td>\n",
       "      <td>0</td>\n",
       "      <td>1.156501</td>\n",
       "      <td>1.16</td>\n",
       "    </tr>\n",
       "    <tr>\n",
       "      <th>3</th>\n",
       "      <td>2014</td>\n",
       "      <td>JAN.</td>\n",
       "      <td>4</td>\n",
       "      <td>4</td>\n",
       "      <td>27.4</td>\n",
       "      <td>14.8</td>\n",
       "      <td>85.856523</td>\n",
       "      <td>42.116688</td>\n",
       "      <td>21.1</td>\n",
       "      <td>63.986605</td>\n",
       "      <td>0.715368</td>\n",
       "      <td>0.26</td>\n",
       "      <td>4.15</td>\n",
       "      <td>4.60356</td>\n",
       "      <td>0</td>\n",
       "      <td>1.196926</td>\n",
       "      <td>1.20</td>\n",
       "    </tr>\n",
       "    <tr>\n",
       "      <th>4</th>\n",
       "      <td>2014</td>\n",
       "      <td>JAN.</td>\n",
       "      <td>5</td>\n",
       "      <td>5</td>\n",
       "      <td>28.0</td>\n",
       "      <td>14.6</td>\n",
       "      <td>95.764981</td>\n",
       "      <td>41.622417</td>\n",
       "      <td>21.3</td>\n",
       "      <td>68.693699</td>\n",
       "      <td>0.743962</td>\n",
       "      <td>0.26</td>\n",
       "      <td>4.15</td>\n",
       "      <td>4.62748</td>\n",
       "      <td>0</td>\n",
       "      <td>1.203145</td>\n",
       "      <td>1.21</td>\n",
       "    </tr>\n",
       "  </tbody>\n",
       "</table>\n",
       "</div>"
      ],
      "text/plain": [
       "   Year Month   J.D.   DAY  Max_temp  Min_temp     Max_Rh     Min_Rh  Temp  \\\n",
       "0  2014  JAN.      1     1      26.8      14.4  91.971153  48.682595  20.6   \n",
       "1  2014  JAN.      2     2      25.4      15.8  90.055915  46.858820  20.6   \n",
       "2  2014  JAN.      3     3      25.8      13.8  95.764981  45.118338  19.8   \n",
       "3  2014  JAN.      4     4      27.4      14.8  85.856523  42.116688  21.1   \n",
       "4  2014  JAN.      5     5      28.0      14.6  95.764981  41.622417  21.3   \n",
       "\n",
       "          Rh  Dew_Point     P    Kc      Eto  Soil_Moist     Water  \\\n",
       "0  70.326874   0.731234  0.26  4.15  4.54376           0  1.181378   \n",
       "1  68.457368   0.722195  0.26  4.15  4.54376           0  1.181378   \n",
       "2  70.441659   0.707755  0.26  4.15  4.44808           0  1.156501   \n",
       "3  63.986605   0.715368  0.26  4.15  4.60356           0  1.196926   \n",
       "4  68.693699   0.743962  0.26  4.15  4.62748           0  1.203145   \n",
       "\n",
       "   Water_content  \n",
       "0           1.19  \n",
       "1           1.19  \n",
       "2           1.16  \n",
       "3           1.20  \n",
       "4           1.21  "
      ]
     },
     "execution_count": 3,
     "metadata": {},
     "output_type": "execute_result"
    }
   ],
   "source": [
    "data.head(5)"
   ]
  },
  {
   "cell_type": "code",
   "execution_count": 4,
   "metadata": {},
   "outputs": [
    {
     "data": {
      "text/plain": [
       "Index(['Year', 'Month', ' J.D.', ' DAY', 'Max_temp', 'Min_temp', 'Max_Rh',\n",
       "       'Min_Rh', 'Temp', 'Rh', 'Dew_Point', 'P', 'Kc', 'Eto', 'Soil_Moist',\n",
       "       'Water', 'Water_content'],\n",
       "      dtype='object')"
      ]
     },
     "execution_count": 4,
     "metadata": {},
     "output_type": "execute_result"
    }
   ],
   "source": [
    "data.columns"
   ]
  },
  {
   "cell_type": "code",
   "execution_count": 5,
   "metadata": {},
   "outputs": [],
   "source": [
    "x= data[['Temp','Rh','Soil_Moist']]"
   ]
  },
  {
   "cell_type": "code",
   "execution_count": 6,
   "metadata": {},
   "outputs": [
    {
     "data": {
      "text/html": [
       "<div>\n",
       "<style scoped>\n",
       "    .dataframe tbody tr th:only-of-type {\n",
       "        vertical-align: middle;\n",
       "    }\n",
       "\n",
       "    .dataframe tbody tr th {\n",
       "        vertical-align: top;\n",
       "    }\n",
       "\n",
       "    .dataframe thead th {\n",
       "        text-align: right;\n",
       "    }\n",
       "</style>\n",
       "<table border=\"1\" class=\"dataframe\">\n",
       "  <thead>\n",
       "    <tr style=\"text-align: right;\">\n",
       "      <th></th>\n",
       "      <th>Temp</th>\n",
       "      <th>Rh</th>\n",
       "      <th>Soil_Moist</th>\n",
       "    </tr>\n",
       "  </thead>\n",
       "  <tbody>\n",
       "    <tr>\n",
       "      <th>0</th>\n",
       "      <td>20.6</td>\n",
       "      <td>70.326874</td>\n",
       "      <td>0</td>\n",
       "    </tr>\n",
       "    <tr>\n",
       "      <th>1</th>\n",
       "      <td>20.6</td>\n",
       "      <td>68.457368</td>\n",
       "      <td>0</td>\n",
       "    </tr>\n",
       "    <tr>\n",
       "      <th>2</th>\n",
       "      <td>19.8</td>\n",
       "      <td>70.441659</td>\n",
       "      <td>0</td>\n",
       "    </tr>\n",
       "    <tr>\n",
       "      <th>3</th>\n",
       "      <td>21.1</td>\n",
       "      <td>63.986605</td>\n",
       "      <td>0</td>\n",
       "    </tr>\n",
       "    <tr>\n",
       "      <th>4</th>\n",
       "      <td>21.3</td>\n",
       "      <td>68.693699</td>\n",
       "      <td>0</td>\n",
       "    </tr>\n",
       "  </tbody>\n",
       "</table>\n",
       "</div>"
      ],
      "text/plain": [
       "   Temp         Rh  Soil_Moist\n",
       "0  20.6  70.326874           0\n",
       "1  20.6  68.457368           0\n",
       "2  19.8  70.441659           0\n",
       "3  21.1  63.986605           0\n",
       "4  21.3  68.693699           0"
      ]
     },
     "execution_count": 6,
     "metadata": {},
     "output_type": "execute_result"
    }
   ],
   "source": [
    "x.head(5)"
   ]
  },
  {
   "cell_type": "code",
   "execution_count": 7,
   "metadata": {},
   "outputs": [],
   "source": [
    "y= data[['Water_content']]"
   ]
  },
  {
   "cell_type": "code",
   "execution_count": 8,
   "metadata": {},
   "outputs": [],
   "source": [
    "from sklearn.model_selection import train_test_split"
   ]
  },
  {
   "cell_type": "code",
   "execution_count": 9,
   "metadata": {},
   "outputs": [],
   "source": [
    "x_train,x_test,y_train,y_test = train_test_split(x,y,test_size=0.3,random_state=101)"
   ]
  },
  {
   "cell_type": "code",
   "execution_count": 10,
   "metadata": {},
   "outputs": [],
   "source": [
    "from sklearn.linear_model import LinearRegression"
   ]
  },
  {
   "cell_type": "code",
   "execution_count": 11,
   "metadata": {},
   "outputs": [],
   "source": [
    "model = LinearRegression()"
   ]
  },
  {
   "cell_type": "code",
   "execution_count": 12,
   "metadata": {},
   "outputs": [
    {
     "data": {
      "text/plain": [
       "LinearRegression(copy_X=True, fit_intercept=True, n_jobs=None,\n",
       "         normalize=False)"
      ]
     },
     "execution_count": 12,
     "metadata": {},
     "output_type": "execute_result"
    }
   ],
   "source": [
    "model.fit(x_train,y_train)"
   ]
  },
  {
   "cell_type": "code",
   "execution_count": 13,
   "metadata": {},
   "outputs": [
    {
     "data": {
      "text/plain": [
       "array([[0.07399847, 0.00644142, 0.        ]])"
      ]
     },
     "execution_count": 13,
     "metadata": {},
     "output_type": "execute_result"
    }
   ],
   "source": [
    "model.coef_"
   ]
  },
  {
   "cell_type": "code",
   "execution_count": 14,
   "metadata": {},
   "outputs": [],
   "source": [
    "predictions = model.predict(x_test)"
   ]
  },
  {
   "cell_type": "code",
   "execution_count": 15,
   "metadata": {},
   "outputs": [],
   "source": [
    "from sklearn import metrics"
   ]
  },
  {
   "cell_type": "code",
   "execution_count": 16,
   "metadata": {},
   "outputs": [
    {
     "name": "stdout",
     "output_type": "stream",
     "text": [
      "73.1731366208796\n"
     ]
    }
   ],
   "source": [
    "print (model.score(x_test,y_test)*100)"
   ]
  },
  {
   "cell_type": "code",
   "execution_count": 18,
   "metadata": {},
   "outputs": [
    {
     "data": {
      "text/plain": [
       "array([[1.20404638]])"
      ]
     },
     "execution_count": 18,
     "metadata": {},
     "output_type": "execute_result"
    }
   ],
   "source": [
    "model.predict([[20.68,70.85,0]])"
   ]
  },
  {
   "cell_type": "code",
   "execution_count": null,
   "metadata": {},
   "outputs": [],
   "source": []
  }
 ],
 "metadata": {
  "kernelspec": {
   "display_name": "Python 3",
   "language": "python",
   "name": "python3"
  },
  "language_info": {
   "codemirror_mode": {
    "name": "ipython",
    "version": 3
   },
   "file_extension": ".py",
   "mimetype": "text/x-python",
   "name": "python",
   "nbconvert_exporter": "python",
   "pygments_lexer": "ipython3",
   "version": "3.7.1"
  }
 },
 "nbformat": 4,
 "nbformat_minor": 2
}
